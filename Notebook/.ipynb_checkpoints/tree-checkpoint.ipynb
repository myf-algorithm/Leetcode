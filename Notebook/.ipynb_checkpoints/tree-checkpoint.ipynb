{
 "cells": [
  {
   "cell_type": "markdown",
   "id": "59af77d9-9a46-4a13-b427-29d28d640b16",
   "metadata": {},
   "source": [
    "### 二叉树"
   ]
  },
  {
   "cell_type": "code",
   "execution_count": 1,
   "id": "ebdcfa44-0d2e-4d84-9839-cc3e56563bcb",
   "metadata": {},
   "outputs": [],
   "source": [
    "# 构建二叉树\n",
    "class TreeNode(object):\n",
    "    def __init__(self, val):\n",
    "        self.val = val\n",
    "        self.left = None\n",
    "        self.right = None\n",
    "        \n",
    "def built_binary_tree():\n",
    "    root = TreeNode(0)\n",
    "    node1 = TreeNode(1)\n",
    "    node2 = TreeNode(2)\n",
    "    node3 = TreeNode(3)\n",
    "    node4 = TreeNode(4)\n",
    "    node5 = TreeNode(5)\n",
    "    node6 = TreeNode(6)\n",
    "\n",
    "    #           root\n",
    "    #    node1       node2\n",
    "    # node3 node4 node5 node6  \n",
    "    root.left = node1\n",
    "    root.right = node2\n",
    "    node1.left = node3\n",
    "    node1.right = node4\n",
    "    node2.left = node5\n",
    "    node2.right = node6\n",
    "    return root"
   ]
  },
  {
   "cell_type": "code",
   "execution_count": 6,
   "id": "6ba54d63-093c-483a-a005-091268d10303",
   "metadata": {},
   "outputs": [
    {
     "name": "stdout",
     "output_type": "stream",
     "text": [
      "0 1 2 3 4 5 6 "
     ]
    }
   ],
   "source": [
    "# 层序遍历二叉树\n",
    "def breadth_traverse(root):\n",
    "    if root is None:\n",
    "        return\n",
    "    queue = [root]\n",
    "    while queue:\n",
    "        cur_node = queue.pop(0)\n",
    "        print(cur_node.val, end=\" \")\n",
    "        if cur_node.left is not None:\n",
    "            queue.append(cur_node.left)\n",
    "        if cur_node.right is not None:\n",
    "            queue.append(cur_node.right)\n",
    "\n",
    "root = built_binary_tree()\n",
    "breadth_traverse(root)"
   ]
  },
  {
   "cell_type": "code",
   "execution_count": 7,
   "id": "9493dcf2-e4a4-4e9b-a890-0249b4040590",
   "metadata": {},
   "outputs": [
    {
     "name": "stdout",
     "output_type": "stream",
     "text": [
      "[0, 1, 3, 4, 2, 5, 6] [3, 1, 4, 0, 5, 2, 6] [3, 4, 1, 5, 6, 2, 0]\n"
     ]
    }
   ],
   "source": [
    "# 递归遍历二叉树\n",
    "pre_res, mid_res, post_res = [], [], []\n",
    "def traverse(root):\n",
    "    if root is None:\n",
    "        return\n",
    "    pre_res.append(root.val)\n",
    "    traverse(root.left)\n",
    "    mid_res.append(root.val)\n",
    "    traverse(root.right)\n",
    "    post_res.append(root.val)\n",
    "\n",
    "root = built_binary_tree()\n",
    "traverse(root)\n",
    "print(pre_res, mid_res, post_res)"
   ]
  },
  {
   "cell_type": "code",
   "execution_count": 8,
   "id": "a1d7f094-d63a-41aa-8586-28e924883a4b",
   "metadata": {},
   "outputs": [
    {
     "data": {
      "text/plain": [
       "3"
      ]
     },
     "execution_count": 8,
     "metadata": {},
     "output_type": "execute_result"
    }
   ],
   "source": [
    "# 二叉树最大深度，采用分解框架\n",
    "def max_depth(root):\n",
    "    if root is None:\n",
    "        return 0\n",
    "    left_maxdepth = max_depth(root.left)\n",
    "    right_maxdepth = max_depth(root.right)\n",
    "    return max(left_maxdepth, right_maxdepth) + 1\n",
    "\n",
    "root = built_binary_tree()\n",
    "max_depth(root)"
   ]
  },
  {
   "cell_type": "code",
   "execution_count": 9,
   "id": "97c11d9e-3987-45e9-ae0a-20e13ef49774",
   "metadata": {},
   "outputs": [
    {
     "data": {
      "text/plain": [
       "7"
      ]
     },
     "execution_count": 9,
     "metadata": {},
     "output_type": "execute_result"
    }
   ],
   "source": [
    "# 二叉树的节点数量\n",
    "def num_node(root):\n",
    "    if root is None:\n",
    "        return 0\n",
    "    left_count = num_node(root.left)\n",
    "    right_count = num_node(root.right)\n",
    "    return left_count + right_count + 1\n",
    "\n",
    "root = built_binary_tree()\n",
    "num_node(root)"
   ]
  },
  {
   "cell_type": "code",
   "execution_count": 10,
   "id": "e403be8f-5179-4f99-a3cc-274452daedf4",
   "metadata": {},
   "outputs": [
    {
     "name": "stdout",
     "output_type": "stream",
     "text": [
      "4\n"
     ]
    }
   ],
   "source": [
    "# 二叉树的直径\n",
    "class Solution:\n",
    "    def diameterOfBinaryTree(self, root):\n",
    "        self.res = 0\n",
    "        \n",
    "        def max_depth(root):\n",
    "            if root is None:\n",
    "                return 0\n",
    "            left_maxdepth = max_depth(root.left)\n",
    "            right_maxdepth = max_depth(root.right)\n",
    "            self.res = max(self.res, right_maxdepth + left_maxdepth)\n",
    "            return max(right_maxdepth, left_maxdepth) + 1\n",
    "        \n",
    "        max_depth(root)\n",
    "        return self.res\n",
    "S = Solution()\n",
    "root = built_binary_tree()\n",
    "print(S.diameterOfBinaryTree(root))"
   ]
  },
  {
   "cell_type": "code",
   "execution_count": 11,
   "id": "923f8c51-0516-416f-9559-aea1cdaeb30e",
   "metadata": {},
   "outputs": [],
   "source": [
    "# 二叉树题目的思考过程？\n",
    "# 1、能否通过遍历得到答案：使用tranverse配合外部变量来实现\n",
    "# 2、定义递归函数，通过子问题答案推导出原问题答案。写出递归函数，并使用递归函数的返回值\n",
    "\n",
    "# 后序位置的特殊之处？\n",
    "# 1、前序位置只能从函数参数中，获取父节点传递来的数据\n",
    "# 2、后序位置不仅能获取参数数据，还能获取函数返回值\n",
    "\n",
    "# 递归函数的不同？\n",
    "# 1、递归函数的入参数量\n",
    "# 2、递归函数的返回值\n",
    "# 3、递归函数的前序、后序位置，操作逻辑\n",
    "# 4、递归函数调用的数量"
   ]
  },
  {
   "cell_type": "code",
   "execution_count": 12,
   "id": "6ac1cdf4-8352-46c3-8025-cc4909158ace",
   "metadata": {},
   "outputs": [
    {
     "name": "stdout",
     "output_type": "stream",
     "text": [
      "0 2 1 6 5 4 3 "
     ]
    }
   ],
   "source": [
    "# 翻转二叉树，遍历写法\n",
    "def invertTree(root):\n",
    "    traverse(root)\n",
    "    return root\n",
    "\n",
    "def traverse(root):\n",
    "    if root is None:\n",
    "        return \n",
    "    \n",
    "    # 前序位置\n",
    "    temp_node = root.left\n",
    "    root.left = root.right\n",
    "    root.right = temp_node\n",
    "    \n",
    "    # 遍历框架，遍历左右子树的节点\n",
    "    traverse(root.left)\n",
    "    traverse(root.right)\n",
    "\n",
    "root = invertTree(root) \n",
    "breadth_traverse(root)"
   ]
  },
  {
   "cell_type": "code",
   "execution_count": 13,
   "id": "aed98ea7-a413-4205-865a-f4e1337d838e",
   "metadata": {},
   "outputs": [
    {
     "name": "stdout",
     "output_type": "stream",
     "text": [
      "0 1 2 3 4 5 6 "
     ]
    }
   ],
   "source": [
    "# 翻转二叉树，分解写法\n",
    "def invertTree(root):\n",
    "    if root is None:\n",
    "        return \n",
    "    # 使用函数定义，先翻转左右子树\n",
    "    left_node = invertTree(root.left)\n",
    "    right_node = invertTree(root.right)\n",
    "    \n",
    "    # 交换左右节点\n",
    "    root.left = right_node\n",
    "    root.right = left_node\n",
    "    \n",
    "    # 和定义逻辑自恰：以root为根的这棵二叉树已经被翻转，返回root\n",
    "    return root\n",
    "\n",
    "root = invertTree(root)\n",
    "breadth_traverse(root)"
   ]
  },
  {
   "cell_type": "code",
   "execution_count": 14,
   "id": "f3ab9412-58bd-4a31-b4ef-80d10b28b43f",
   "metadata": {},
   "outputs": [
    {
     "name": "stdout",
     "output_type": "stream",
     "text": [
      "0 1 2 3 4 5 6 \n",
      "0 1 3 4 2 5 6 "
     ]
    }
   ],
   "source": [
    "# 二叉树转成链表\n",
    "class Solution:\n",
    "    def flatten(self, root):\n",
    "        if root is None:\n",
    "            return\n",
    "        self.flatten(root.left)\n",
    "        self.flatten(root.right)\n",
    "        \n",
    "        # 后序遍历位置\n",
    "        # 1、左右子树已经被拉成一条链表\n",
    "        left = root.left\n",
    "        right = root.right\n",
    "        \n",
    "        # 2、将左子树作为右子树\n",
    "        root.left = None\n",
    "        root.right = left\n",
    "        \n",
    "        # 3、将原来的右子树拼接到当前右子树的末端\n",
    "        p = root\n",
    "        while p.right is not None:\n",
    "            p = p.right\n",
    "        p.right = right\n",
    "        \n",
    "S = Solution()\n",
    "\n",
    "root = built_binary_tree()\n",
    "breadth_traverse(root)\n",
    "print()\n",
    "\n",
    "S.flatten(root)\n",
    "breadth_traverse(root)"
   ]
  },
  {
   "cell_type": "code",
   "execution_count": 15,
   "id": "a05bbf96-a2e9-4745-a42f-2f9a298e8e28",
   "metadata": {},
   "outputs": [
    {
     "name": "stdout",
     "output_type": "stream",
     "text": [
      "6 3 5 2 0 1 "
     ]
    }
   ],
   "source": [
    "# 构造最大二叉树\n",
    "class Solution:\n",
    "    def constructMaximumBinaryTree(self, nums):\n",
    "        return self.build(nums, 0, len(nums) - 1)\n",
    "        \n",
    "    def build(self, nums, lo, hi):\n",
    "        index, max_value = -1, float(\"-inf\")\n",
    "        # base case\n",
    "        if hi < lo:\n",
    "            return None\n",
    "\n",
    "        # 找到数组中的最大值和对应的索引\n",
    "        for i in range(lo, hi + 1):\n",
    "            if nums[i] > max_value:\n",
    "                max_value = nums[i]\n",
    "                index = i\n",
    "\n",
    "        # 构造根节点\n",
    "        root = TreeNode(max_value)\n",
    "\n",
    "        # 递归调用构造左右子树\n",
    "        root.left = self.build(nums, lo, index - 1)\n",
    "        root.right = self.build(nums, index + 1, hi)\n",
    "\n",
    "        return root\n",
    "\n",
    "class Solution1:\n",
    "    def constructMaximumBinaryTree(self, nums):\n",
    "        return self.build(nums)\n",
    "        \n",
    "    def build(self, nums):\n",
    "        if len(nums) == 0:\n",
    "            return None\n",
    "\n",
    "        # 构造根节点\n",
    "        root = TreeNode(max(nums))\n",
    "        index = nums.index(root.val)\n",
    "        \n",
    "        # 递归调用构造左右子树\n",
    "        root.left = self.build(nums[:index])\n",
    "        root.right = self.build(nums[index + 1:])\n",
    "\n",
    "        return root\n",
    "    \n",
    "S = Solution1()\n",
    "root = S.constructMaximumBinaryTree([3,2,1,6,0,5])\n",
    "breadth_traverse(root)"
   ]
  },
  {
   "cell_type": "code",
   "execution_count": 16,
   "id": "53e49231-98b4-400c-82b8-2805b01b048c",
   "metadata": {},
   "outputs": [
    {
     "name": "stdout",
     "output_type": "stream",
     "text": [
      "1 2 3 5 4 8 9 6 7 "
     ]
    }
   ],
   "source": [
    "# 根据先序遍历和中序遍历结果，重建二叉树\n",
    "def build_tree(preorder, inorder):\n",
    "    if len(preorder) == 0:\n",
    "        return None\n",
    "    # 根节点是先序遍历的第一个元素\n",
    "    root_val = preorder[0]\n",
    "    index = inorder.index(root_val)\n",
    "    \n",
    "    # 构造当前跟节点\n",
    "    root = TreeNode(root_val)\n",
    "    \n",
    "    # 递归构造左右子树\n",
    "    root.left = build_tree(preorder[1:index+1], inorder[:index])\n",
    "    root.right = build_tree(preorder[index+1:], inorder[index+1:])\n",
    "    return root\n",
    "\n",
    "preorder, inorder = [1, 2, 5, 4, 6, 7, 3, 8, 9], [5, 2, 6, 4, 7, 1, 8, 3, 9]\n",
    "root = build_tree(preorder, inorder)\n",
    "breadth_traverse(root)"
   ]
  },
  {
   "cell_type": "code",
   "execution_count": 17,
   "id": "1f9915da-6e84-4124-9b5b-ec9aba17052d",
   "metadata": {},
   "outputs": [
    {
     "name": "stdout",
     "output_type": "stream",
     "text": [
      "1 2 3 5 4 8 9 6 7 "
     ]
    }
   ],
   "source": [
    "# 根据中序遍历和后序遍历结果，重建二叉树\n",
    "def build_tree(postorder, inorder):\n",
    "    if len(postorder) == 0:\n",
    "        return None\n",
    "    \n",
    "    root_val = postorder[-1]\n",
    "    root = TreeNode(root_val)\n",
    "    \n",
    "    index = inorder.index(root_val)\n",
    "    inorder_left = inorder[:index]\n",
    "    inorder_right = inorder[index + 1:]\n",
    "    postorder_left = postorder[:index]\n",
    "    postorder_right = postorder[index:-1]\n",
    "    \n",
    "    root.left = build_tree(postorder_left, inorder_left)\n",
    "    root.right = build_tree(postorder_right, inorder_right)\n",
    "    return root\n",
    "\n",
    "postorder, inorder = [5, 6, 7, 4, 2, 8, 9, 3, 1], [5, 2, 6, 4, 7, 1, 8, 3, 9]\n",
    "root = build_tree(postorder, inorder)\n",
    "breadth_traverse(root)"
   ]
  },
  {
   "cell_type": "code",
   "execution_count": 18,
   "id": "b7da1f57-1467-4650-8671-9d125f75c6e3",
   "metadata": {},
   "outputs": [
    {
     "name": "stdout",
     "output_type": "stream",
     "text": [
      "1 2 3 5 4 8 9 6 7 "
     ]
    }
   ],
   "source": [
    "# 根据先序遍历和后序遍历结果，重建二叉树\n",
    "# 不唯一\n",
    "\n",
    "def build_tree(preorder, postorder):\n",
    "    if not preorder:\n",
    "        return None\n",
    "    \n",
    "    # 数组长度为1时，直接返回即可\n",
    "    if len(preorder) == 1:\n",
    "        return TreeNode(preorder[0])\n",
    "    \n",
    "    # 根据前序数组的第一个元素，创建根节点  \n",
    "    root = TreeNode(preorder[0])\n",
    "    \n",
    "    # 根据前序数组第二个元素，确定后序数组左子树范围\n",
    "    index = postorder.index(preorder[1]) + 1\n",
    "    \n",
    "    # 递归构造左右子树\n",
    "    root.left = build_tree(preorder[1:index+1], postorder[:index])\n",
    "    root.right = build_tree(preorder[index+1:], postorder[index:-1])\n",
    "    return root\n",
    "\n",
    "preorder, postorder = [1, 2, 5, 4, 6, 7, 3, 8, 9], [5, 6, 7, 4, 2, 8, 9, 3, 1]\n",
    "root = build_tree(preorder, postorder)\n",
    "breadth_traverse(root)"
   ]
  },
  {
   "cell_type": "code",
   "execution_count": 19,
   "id": "5654cd7f-a114-4efb-b1af-b5bd7db5b2d4",
   "metadata": {},
   "outputs": [
    {
     "name": "stdout",
     "output_type": "stream",
     "text": [
      "1,2,5,None,None,4,6,None,None,7,None,None,3,8,None,None,9,None,None,\n",
      "1 2 3 5 4 8 9 6 7 "
     ]
    }
   ],
   "source": [
    "# 二叉树的序列化和反序列化\n",
    "def serialize(root):\n",
    "    def traverse(root, serialize_str):\n",
    "        if root is None:\n",
    "            serialize_str += 'None,'\n",
    "        else:\n",
    "            serialize_str += str(root.val) + ','\n",
    "            serialize_str = traverse(root.left, serialize_str)\n",
    "            serialize_str = traverse(root.right, serialize_str)\n",
    "        return serialize_str\n",
    "    \n",
    "    return traverse(root, '')\n",
    "\n",
    "def deserialize(serialize_str):\n",
    "    def traverse(serialize_list):\n",
    "        if serialize_list[0] == 'None':\n",
    "            serialize_list.pop(0)\n",
    "            return\n",
    "        else:\n",
    "            root = TreeNode(serialize_list[0])\n",
    "            serialize_list.pop(0)\n",
    "            root.left = traverse(serialize_list)\n",
    "            root.right = traverse(serialize_list)\n",
    "            return root\n",
    "        \n",
    "    return traverse(serialize_str.split(','))\n",
    "\n",
    "root = build_tree(preorder, postorder)\n",
    "serialize_str = serialize(root)\n",
    "print(serialize_str)\n",
    "root = deserialize(serialize_str)\n",
    "breadth_traverse(root)"
   ]
  },
  {
   "cell_type": "code",
   "execution_count": 20,
   "id": "7b59282e-0efc-49fa-8ce1-8bfcbaa08517",
   "metadata": {},
   "outputs": [
    {
     "name": "stdout",
     "output_type": "stream",
     "text": [
      "[<__main__.TreeNode object at 0x7f87e03b0d30>]\n"
     ]
    }
   ],
   "source": [
    "# 寻找重复的子树\n",
    "class Solution:\n",
    "    def __init__(self):\n",
    "        self.res = []\n",
    "        self.hashmap = {}\n",
    "        \n",
    "    def traverse(self, root):\n",
    "        if root is None:\n",
    "            return '#'\n",
    "        left = self.traverse(root.left)\n",
    "        right = self.traverse(root.right)\n",
    "        subtree = left + ',' + right + ',' + str(root.val)\n",
    "        \n",
    "        count = self.hashmap.get(subtree, 0)\n",
    "        if count == 1:\n",
    "            self.res.append(root)\n",
    "        self.hashmap[subtree] = count + 1\n",
    "        \n",
    "        return subtree\n",
    "    \n",
    "    def findDuplicateSubtrees(self, root):\n",
    "        self.traverse(root)\n",
    "        return self.res\n",
    "\n",
    "\n",
    "def built_binary_tree():\n",
    "    root = TreeNode(0)\n",
    "    node1 = TreeNode(1)\n",
    "    node2 = TreeNode(2)\n",
    "    node3 = TreeNode(3)\n",
    "    node4 = TreeNode(4)\n",
    "    node5 = TreeNode(3)\n",
    "    node6 = TreeNode(6)\n",
    "\n",
    "    #           root\n",
    "    #    node1       node2\n",
    "    # node3 node4 node5 node6  \n",
    "    root.left = node1\n",
    "    root.right = node2\n",
    "    node1.left = node3\n",
    "    node1.right = node4\n",
    "    node2.left = node5\n",
    "    node2.right = node6\n",
    "    return root\n",
    "\n",
    "root = built_binary_tree()\n",
    "S = Solution()\n",
    "res = S.findDuplicateSubtrees(root)\n",
    "print(res)"
   ]
  },
  {
   "cell_type": "code",
   "execution_count": null,
   "id": "4d5db8de-66b8-40ff-905b-d5dbabc7d4c3",
   "metadata": {},
   "outputs": [],
   "source": []
  },
  {
   "cell_type": "code",
   "execution_count": null,
   "id": "3f9ea208-5680-4327-a41e-e8ce7c6649b5",
   "metadata": {},
   "outputs": [],
   "source": []
  },
  {
   "cell_type": "markdown",
   "id": "edcfe7d0-59c4-41d9-a2fa-230852278456",
   "metadata": {},
   "source": [
    "### 二叉搜索树"
   ]
  },
  {
   "cell_type": "code",
   "execution_count": 21,
   "id": "f5e76e64-f596-4408-8961-6b8b19e91a07",
   "metadata": {},
   "outputs": [
    {
     "name": "stdout",
     "output_type": "stream",
     "text": [
      "[1, 2, 3, 4, 5, 6, 7]\n"
     ]
    }
   ],
   "source": [
    "# 二叉搜索树（BST）\n",
    "# 定义：root的左子树都要小于root.val，右子树都要大于root.val\n",
    "# AVL树，红黑树，B+树，线段树，都是基于BST\n",
    "# BST的中序遍历结果是升序的\n",
    "# 如果当前节点会对下面的子节点有整体影响，可以通过辅助函数增长参数列表，借助参数传递信息\n",
    "def built_binary_search_tree():\n",
    "    root = TreeNode(4)\n",
    "    node1 = TreeNode(2)\n",
    "    node2 = TreeNode(6)\n",
    "    node3 = TreeNode(1)\n",
    "    node4 = TreeNode(3)\n",
    "    node5 = TreeNode(5)\n",
    "    node6 = TreeNode(7)\n",
    "\n",
    "    #                root(4)\n",
    "    #       node1(2)         node2(6)\n",
    "    # node3(1) node4(3)  node5(5) node6(7)\n",
    "    root.left = node1\n",
    "    root.right = node2\n",
    "    node1.left = node3\n",
    "    node1.right = node4\n",
    "    node2.left = node5\n",
    "    node2.right = node6\n",
    "    return root\n",
    "\n",
    "root = built_binary_search_tree()\n",
    "\n",
    "inorder_res = []\n",
    "def inorder(root):\n",
    "    if root is None:\n",
    "        return\n",
    "    inorder(root.left)\n",
    "    inorder_res.append(root.val)\n",
    "    inorder(root.right)\n",
    "inorder(root)\n",
    "print(inorder_res)"
   ]
  },
  {
   "cell_type": "code",
   "execution_count": 22,
   "id": "cb071570-bd83-4f28-8f3d-a3d4ab6b6858",
   "metadata": {},
   "outputs": [
    {
     "name": "stdout",
     "output_type": "stream",
     "text": [
      "True\n"
     ]
    }
   ],
   "source": [
    "# 验证是否为有效二叉搜索树\n",
    "def is_valid_bst(root):\n",
    "    def traverse(root, min_node, max_node):\n",
    "        # base case\n",
    "        if root is None:\n",
    "            return True\n",
    "        # 如果 root.val 不满足 max 和 min 的限制，说明不是合法的bst\n",
    "        if (min_node is not None) and (root.val <= min_node.val):\n",
    "            return False\n",
    "        if (max_node is not None) and (root.val >= max_node.val):\n",
    "            return False\n",
    "        # 限定左子树的最大值是 root.val，右子树的最小值是 root.val\n",
    "        return traverse(root.left, min_node, root) and traverse(root.right, root, max_node)\n",
    "\n",
    "    return traverse(root, None, None)\n",
    "\n",
    "print(is_valid_bst(root))"
   ]
  },
  {
   "cell_type": "code",
   "execution_count": 23,
   "id": "e1480893-b185-4d5b-a65e-b193bf8a0672",
   "metadata": {},
   "outputs": [
    {
     "name": "stdout",
     "output_type": "stream",
     "text": [
      "2\n"
     ]
    }
   ],
   "source": [
    "# 搜素二叉树\n",
    "def search_bst(root, target):\n",
    "    if root is None:\n",
    "        return None\n",
    "    if root.val > target:\n",
    "        return search_bst(root.left, target)\n",
    "    if root.val < target:\n",
    "        return search_bst(root.right, target)\n",
    "    return root.val\n",
    "\n",
    "print(search_bst(root, 2))"
   ]
  },
  {
   "cell_type": "code",
   "execution_count": 24,
   "id": "1e78926c-6fb3-453b-96cf-fa59762ef298",
   "metadata": {},
   "outputs": [
    {
     "name": "stdout",
     "output_type": "stream",
     "text": [
      "[1, 2, 3, 4, 5, 6, 7, 10]\n"
     ]
    }
   ],
   "source": [
    "# 插入数值\n",
    "def insert_bst(root, val):\n",
    "    # 在空位置上插入一个节点\n",
    "    if root is None:\n",
    "        return TreeNode(val)\n",
    "    if root.val < val:\n",
    "        root.right = insert_bst(root.right, val)\n",
    "    if root.val > val:\n",
    "        root.left = insert_bst(root.left, val)\n",
    "    return root\n",
    "\n",
    "root = built_binary_search_tree()\n",
    "root = insert_bst(root, 10)\n",
    "\n",
    "inorder_res = []\n",
    "inorder(root)\n",
    "print(inorder_res)"
   ]
  },
  {
   "cell_type": "code",
   "execution_count": 25,
   "id": "ca2ecb05-01b6-4b4b-891e-bf6510845be5",
   "metadata": {},
   "outputs": [
    {
     "name": "stdout",
     "output_type": "stream",
     "text": [
      "[<__main__.TreeNode object at 0x7f87e03a2be0>, <__main__.TreeNode object at 0x7f87e03a2fd0>, <__main__.TreeNode object at 0x7f87e03b0b70>, <__main__.TreeNode object at 0x7f87e03b0c18>, <__main__.TreeNode object at 0x7f87e03b0d68>, <__main__.TreeNode object at 0x7f87e03b0128>, <__main__.TreeNode object at 0x7f87e03b00f0>, <__main__.TreeNode object at 0x7f87e03b0240>, <__main__.TreeNode object at 0x7f87e03b02e8>, <__main__.TreeNode object at 0x7f87e03b0668>, <__main__.TreeNode object at 0x7f87e03b05f8>, <__main__.TreeNode object at 0x7f87e03b0630>, <__main__.TreeNode object at 0x7f87e03b06a0>, <__main__.TreeNode object at 0x7f87e03b06d8>]\n"
     ]
    }
   ],
   "source": [
    "# 不同的二叉搜索树\n",
    "def generate_bst(n):\n",
    "    if n == 0:\n",
    "        return []\n",
    "\n",
    "    def build_tree(left, right):\n",
    "        all_trees = []\n",
    "        if left > right:\n",
    "            return [None]\n",
    "        for i in range(left, right + 1):\n",
    "            left_trees = build_tree(left, i - 1)\n",
    "            right_trees = build_tree(i + 1, right)\n",
    "            for l in left_trees:\n",
    "                for r in right_trees:\n",
    "                    cur_tree = TreeNode(i)\n",
    "                    cur_tree.left = l\n",
    "                    cur_tree.right = r\n",
    "                    all_trees.append(cur_tree)\n",
    "        return all_trees\n",
    "\n",
    "    return build_tree(1, n)\n",
    "\n",
    "print(generate_bst(4))"
   ]
  },
  {
   "cell_type": "code",
   "execution_count": 26,
   "id": "2dca1e07-596f-4868-9157-05ab22ace9cf",
   "metadata": {},
   "outputs": [],
   "source": [
    "# 寻找公共祖先\n",
    "# 二叉搜索树\n",
    "def lowestCommonAncestor(self, root: 'TreeNode', p: 'TreeNode', q: 'TreeNode') -> 'TreeNode':\n",
    "    if p.val > q.val: p, q = q, p\n",
    "    # 跟节点就是公共祖先\n",
    "    if root.val >= p.val and root.val <= q.val:\n",
    "        return root\n",
    "    # 去左子树中查找\n",
    "    elif root.val > p.val and root.val > q.val:\n",
    "        return self.lowestCommonAncestor(root.left, p, q)\n",
    "    # 去右子树中查找\n",
    "    else:\n",
    "        return self.lowestCommonAncestor(root.right, p, q)\n",
    "    \n",
    "# 二叉树\n",
    "def lowestCommonAncestor(self, root, p, q):\n",
    "    if not root:\n",
    "        return None\n",
    "    # 跟节点匹配到，直接返回\n",
    "    if root == p or root == q:\n",
    "        return root\n",
    "    # 去左子树查找\n",
    "    left = self.lowestCommonAncestor(root.left, p, q)\n",
    "    # 去右子树查找\n",
    "    right = self.lowestCommonAncestor(root.right, p, q)\n",
    "    \n",
    "    # 如果既在左子树找到，又在右子树找到，当前root就是公共节点\n",
    "    if left and right:\n",
    "        return root\n",
    "\n",
    "    # 只有左子树有，直接返回左子树匹配到的第一个节点\n",
    "    if left:\n",
    "        return left\n",
    "    if right:\n",
    "        return right"
   ]
  },
  {
   "cell_type": "code",
   "execution_count": null,
   "id": "75f7bb5a-7e06-449c-9eda-a09bace27851",
   "metadata": {},
   "outputs": [],
   "source": []
  },
  {
   "cell_type": "code",
   "execution_count": 27,
   "id": "aef2b1cd-0dc9-4c53-be05-621684bceac1",
   "metadata": {},
   "outputs": [
    {
     "name": "stdout",
     "output_type": "stream",
     "text": [
      "7\n"
     ]
    }
   ],
   "source": [
    "# 二叉树节点数量\n",
    "def count_node(root):\n",
    "    if root == None:\n",
    "        return 0\n",
    "    if not root.left and not root.right:\n",
    "        return 1\n",
    "    return count_node(root.left) + count_node(root.right) + 1\n",
    "\n",
    "root = built_binary_tree()\n",
    "print(count_node(root))"
   ]
  },
  {
   "cell_type": "code",
   "execution_count": null,
   "id": "95e6917e-2da8-4701-8625-d87300f85e7e",
   "metadata": {},
   "outputs": [],
   "source": [
    "# leetcode 102: 树的层序遍历\n",
    "class TreeNode:\n",
    "    def __init__(self, val=0, left=None, right=None):\n",
    "        self.val = val\n",
    "        self.left = left\n",
    "        self.right = right\n",
    "\n",
    "def levelOrder(root):\n",
    "    if root is None:\n",
    "        return []\n",
    "    res = []\n",
    "    cur_level = [root]\n",
    "    while cur_level:  # 遍历每层\n",
    "        tmp = []\n",
    "        next_level = []\n",
    "        for node in cur_level:  # 遍历层内每个节点\n",
    "            tmp.append(node.val)\n",
    "            if node.left:\n",
    "                next_level.append(node.left)\n",
    "            if node.right:\n",
    "                next_level.append(node.right)\n",
    "            cur_level = next_level\n",
    "        res.append(tmp)\n",
    "    return res\n",
    "\n",
    "def levelOrder_c(root): # 二叉树层序遍历的递归写法\n",
    "    res = []\n",
    "    \n",
    "    def traverse(root, depth):\n",
    "        if not root:\n",
    "            return \n",
    "        if len(res) == depth:\n",
    "            res.append([])\n",
    "        res[depth].append(root.val)\n",
    "        traverse(root.left, depth + 1)\n",
    "        traverse(root.right, depth + 1)\n",
    "    traverse(root, 0)\n",
    "    return res"
   ]
  },
  {
   "cell_type": "code",
   "execution_count": null,
   "id": "ac03d54b-c012-46b9-ab15-53437110902c",
   "metadata": {},
   "outputs": [],
   "source": []
  },
  {
   "cell_type": "code",
   "execution_count": null,
   "id": "a06ad2d2-3553-4f74-9d41-6b6b4d029095",
   "metadata": {},
   "outputs": [],
   "source": []
  },
  {
   "cell_type": "code",
   "execution_count": null,
   "id": "080ed70a-48f8-4901-a72e-37c33fca411f",
   "metadata": {},
   "outputs": [],
   "source": []
  },
  {
   "cell_type": "markdown",
   "id": "8f430ebc-60c2-4844-afc7-3c390364b1eb",
   "metadata": {},
   "source": [
    "### 打印树结构"
   ]
  },
  {
   "cell_type": "code",
   "execution_count": 28,
   "id": "8d244f57-8db2-4607-9f9e-866eb739e90e",
   "metadata": {},
   "outputs": [
    {
     "name": "stdout",
     "output_type": "stream",
     "text": [
      "      e\n",
      "   /     \\\n",
      "  c       g\n",
      " / \\     / \\\n",
      "b   d   f   h\n",
      "\n"
     ]
    }
   ],
   "source": [
    "# 构建二叉树\n",
    "class Node:\n",
    "    '节点类型'\n",
    "\n",
    "    def __init__(self, item):\n",
    "        self.item = item\n",
    "        self.left = None\n",
    "        self.right = None\n",
    "\n",
    "\n",
    "class BinaryTree:\n",
    "    '二叉树'\n",
    "\n",
    "    def __init__(self):\n",
    "        self.root = None\n",
    "\n",
    "    def add_node(self, root, value):\n",
    "        '构建二叉搜索树，向当前二叉树添加节点,返回以root为根节点的二叉树'\n",
    "        if root is None:\n",
    "            node = Node(value)\n",
    "            root = node\n",
    "            if self.root is None:\n",
    "                self.root = node\n",
    "        elif value < root.item:\n",
    "            root.left = self.add_node(root.left, value)\n",
    "        elif value > root.item:\n",
    "            root.right = self.add_node(root.right, value)\n",
    "        return root\n",
    "\n",
    "    def in_order(self, root):\n",
    "        '中序遍历打印二叉树信息'\n",
    "        if root is None:\n",
    "            return\n",
    "        self.in_order(root.left)\n",
    "        print(root.item)\n",
    "        self.in_order(root.right)\n",
    "\n",
    "    def depth(self, root):\n",
    "        '求二叉树的深度'\n",
    "        if root is None:\n",
    "            return 0\n",
    "        leftDepth = self.depth(root.left) + 1\n",
    "        rightDepth = self.depth(root.right) + 1\n",
    "        height = rightDepth\n",
    "        if leftDepth > rightDepth:\n",
    "            height = leftDepth\n",
    "        return height\n",
    "\n",
    "    def print_tree(self, root):\n",
    "        '''\n",
    "        打印一棵二叉树，二叉树节点值为0~9 10个整数或者26个大小写英文字母\n",
    "        使用/\\模拟左右分支,如下所示\n",
    "                e                           \n",
    "             /     \\\n",
    "            c       g\n",
    "           / \\     / \\\n",
    "          b   d   f   h\n",
    "         /\n",
    "        a\n",
    "        但是在打印满二叉树时，最多打印三层，对于深度为4的二叉树，存在节点冲突，无法打印\n",
    "        '''\n",
    "        if root is None:\n",
    "            return\n",
    "        # 基本思想：\n",
    "        # 查询二叉树高度，预留足够的打印区域\n",
    "        current = self.depth(root)\n",
    "        # 计算深度为depth的满二叉树需要的打印区域：叶子节点需要的打印区域，恰好为奇数\n",
    "        # 同一个节点左右孩子间隔 3 个空格\n",
    "        # 相邻节点至少间隔一个空格，\n",
    "        max_word = 3 * (2 ** (current - 1)) - 1\n",
    "        node_space = int(max_word / 2)  # 每一个节点前面的空格数\n",
    "        # queue1和queue2用来存放节点以及节点打印时的位置\n",
    "        # queue1：当前层\n",
    "        # queue2：下一层\n",
    "        queue1 = [[self.root, node_space + 1]]\n",
    "        queue2 = []\n",
    "        while queue1:\n",
    "            # 使用i_position列表记录左右斜杠的位置\n",
    "            i_position = []\n",
    "            # 确定左右斜杠的位置\n",
    "            # \"/\"比当前节点的位置少1\n",
    "            # \"\\\"比当前节点的位置多1\n",
    "            for i in range(len(queue1)):\n",
    "                node = queue1[i][0]  # 节点打印位置\n",
    "                i_space = queue1[i][1] - 1  # 左右斜线打印位置\n",
    "                # 对于根节点，左右各空出两个空格\n",
    "                if node.item == self.root.item:\n",
    "                    i_space -= 2\n",
    "                # 存储左斜线和左孩子\n",
    "                if node.left is not None:\n",
    "                    i_position.append([i_space, '/'])\n",
    "                    queue2.append([node.left, i_space - 1])\n",
    "                i_space += 2\n",
    "                if node.item == self.root.item:\n",
    "                    i_space += 4\n",
    "                # 存储右斜线和右孩子\n",
    "                if node.right is not None:\n",
    "                    i_position.append([i_space, '\\\\'])\n",
    "                    queue2.append([node.right, i_space + 1])\n",
    "            # 打印节点和左右斜杠\n",
    "            # 打印节点\n",
    "            if len(queue1) > 0:\n",
    "                # 找到打印位置最远的节点的位置\n",
    "                last_node = queue1[len(queue1) - 1][1]\n",
    "                # 当前打印节点的数目\n",
    "                index = 0\n",
    "                for i in range(last_node + 1):\n",
    "                    # 打印节点\n",
    "                    if index < len(queue1) and i == queue1[index][1]:\n",
    "                        print(queue1[index][0].item, end='')\n",
    "                        index += 1\n",
    "                    else:\n",
    "                        # 打印空格\n",
    "                        print(' ', end='')\n",
    "            print()\n",
    "            # 打印左右斜杠\n",
    "            index = 0\n",
    "            if len(i_position) > 0:\n",
    "                for i in range(i_position[len(i_position) - 1][0] + 1):\n",
    "                    if i == i_position[index][0]:\n",
    "                        print(i_position[index][1], end='')\n",
    "                        index += 1\n",
    "                    else:\n",
    "                        print(' ', end='')\n",
    "            print()\n",
    "            # 更新queue1和queue2\n",
    "            queue1 = []\n",
    "            while queue2:\n",
    "                queue1.append(queue2.pop(0))\n",
    "            node_space -= 2\n",
    "\n",
    "\n",
    "tree = BinaryTree()\n",
    "tree.add_node(tree.root, 'e')\n",
    "tree.add_node(tree.root, 'c')\n",
    "tree.add_node(tree.root, 'g')\n",
    "tree.add_node(tree.root, 'b')\n",
    "tree.add_node(tree.root, 'h')\n",
    "tree.add_node(tree.root, 'd')\n",
    "tree.add_node(tree.root, 'f')\n",
    "tree.print_tree(tree.root)"
   ]
  },
  {
   "cell_type": "code",
   "execution_count": 43,
   "id": "04d7eecd-b77f-4dff-8d7d-43f47430e425",
   "metadata": {},
   "outputs": [],
   "source": []
  },
  {
   "cell_type": "markdown",
   "id": "787c2e80-0620-46c4-9804-274fc0ddbbf4",
   "metadata": {},
   "source": [
    "### 前缀树"
   ]
  },
  {
   "cell_type": "code",
   "execution_count": 45,
   "id": "c8864c68-416e-433e-baf8-d65da7d4bfa1",
   "metadata": {},
   "outputs": [],
   "source": [
    "# 前缀树，trie树，用树枝存储键，用节点存储值\n",
    "class TrieNode:\n",
    "    def __init__(self):\n",
    "        self.children = {}\n",
    "        self.isWord = False\n",
    "\n",
    "\n",
    "class Trie:\n",
    "    def __init__(self):\n",
    "        self.root = TrieNode()\n",
    "\n",
    "    def insert(self, word: str) -> None:\n",
    "        node = self.root\n",
    "        for c in word:\n",
    "            if c not in node.children:\n",
    "                node.children[c] = TrieNode()\n",
    "            node = node.children[c]\n",
    "        node.isWord = True\n",
    "\n",
    "    def search(self, word: str) -> bool:\n",
    "        node = self.root\n",
    "        for c in word:\n",
    "            if c not in node.children:\n",
    "                return False\n",
    "            node = node.children[c]\n",
    "        return node.isWord\n",
    "\n",
    "    def startsWith(self, prefix: str) -> bool:\n",
    "        node = self.root\n",
    "        for c in prefix:\n",
    "            if c not in node.children:\n",
    "                return False\n",
    "            node = node.children[c]\n",
    "        return True"
   ]
  },
  {
   "cell_type": "code",
   "execution_count": 46,
   "id": "1f7a1a84-358f-445c-b331-c3fee83998e0",
   "metadata": {},
   "outputs": [],
   "source": []
  },
  {
   "cell_type": "code",
   "execution_count": 47,
   "id": "d523d8f7-1cea-4264-bdc0-4aa97651d2b4",
   "metadata": {},
   "outputs": [],
   "source": []
  },
  {
   "cell_type": "code",
   "execution_count": 48,
   "id": "0beb2cf8-1e1e-4dfe-98aa-3d4aef7cb1d5",
   "metadata": {},
   "outputs": [],
   "source": []
  },
  {
   "cell_type": "code",
   "execution_count": 49,
   "id": "7f1b488a-2c0d-4e83-bd61-55a7772537ac",
   "metadata": {},
   "outputs": [],
   "source": []
  },
  {
   "cell_type": "code",
   "execution_count": 59,
   "id": "3acf6a4f-41fb-481e-aa17-2a77c82da54c",
   "metadata": {},
   "outputs": [],
   "source": []
  },
  {
   "cell_type": "code",
   "execution_count": 60,
   "id": "70f85add-fec2-4a78-bafb-e14d689650b9",
   "metadata": {},
   "outputs": [],
   "source": []
  },
  {
   "cell_type": "code",
   "execution_count": 61,
   "id": "372584ef-6309-4feb-9c15-f333181502c5",
   "metadata": {},
   "outputs": [],
   "source": []
  },
  {
   "cell_type": "code",
   "execution_count": 62,
   "id": "88b03f85-f693-417a-a984-74151b16b1b1",
   "metadata": {},
   "outputs": [],
   "source": []
  },
  {
   "cell_type": "code",
   "execution_count": null,
   "id": "d99b2514-7b53-4b02-bcf2-6e85825a2752",
   "metadata": {},
   "outputs": [],
   "source": []
  },
  {
   "cell_type": "code",
   "execution_count": null,
   "id": "687d65d3-6310-44cd-9c0d-b5f48256f356",
   "metadata": {},
   "outputs": [],
   "source": []
  },
  {
   "cell_type": "code",
   "execution_count": null,
   "id": "1d091adf-a05e-4d56-a787-237157751a60",
   "metadata": {},
   "outputs": [],
   "source": []
  }
 ],
 "metadata": {
  "kernelspec": {
   "display_name": "Python 3",
   "language": "python",
   "name": "python3"
  },
  "language_info": {
   "codemirror_mode": {
    "name": "ipython",
    "version": 3
   },
   "file_extension": ".py",
   "mimetype": "text/x-python",
   "name": "python",
   "nbconvert_exporter": "python",
   "pygments_lexer": "ipython3",
   "version": "3.6.8"
  }
 },
 "nbformat": 4,
 "nbformat_minor": 5
}
