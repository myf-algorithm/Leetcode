{
 "cells": [
  {
   "cell_type": "code",
   "execution_count": 1,
   "id": "85af4f2c-b580-499c-b59e-ac0ccfb4bb50",
   "metadata": {},
   "outputs": [
    {
     "name": "stdout",
     "output_type": "stream",
     "text": [
      "[54, 26, 93, 17, 77, 31, 44, 55, 20]\n",
      "[17, 20, 26, 31, 44, 54, 55, 77, 93]\n"
     ]
    }
   ],
   "source": [
    "# 归并排序，后序遍历\n",
    "# 先把左半边数组排好序，再把右半边数组排好序，然后把两半数组合并\n",
    "def merge(left_li, right_li):\n",
    "    left_pointer, right_pointer = 0, 0\n",
    "    result = []\n",
    "\n",
    "    # 左边或者右边的其中一个已经走到头\n",
    "    while left_pointer < len(left_li) and right_pointer < len(right_li):\n",
    "        if left_li[left_pointer] <= right_li[right_pointer]:\n",
    "            result.append(left_li[left_pointer])\n",
    "            left_pointer += 1\n",
    "        else:\n",
    "            result.append(right_li[right_pointer])\n",
    "            right_pointer += 1\n",
    "\n",
    "    # 添加没有走到头的那个序列\n",
    "    result += left_li[left_pointer:]\n",
    "    result += right_li[right_pointer:]\n",
    "    return result\n",
    "    \n",
    "def merge_sort(alist):\n",
    "    n = len(alist)\n",
    "    if n <= 1:\n",
    "        return alist\n",
    "    mid = n // 2\n",
    "\n",
    "    # left，采用归并排序后形成的有序的新的列表\n",
    "    left_li = merge_sort(alist[:mid])\n",
    "\n",
    "    # right，采用归并排序后形成的有序的新的列表\n",
    "    right_li = merge_sort(alist[mid:])\n",
    "\n",
    "    # 将两个有序的子序列合并为一个新的整体\n",
    "    result = merge(left_li, right_li)\n",
    "    return result\n",
    "\n",
    "li = [54, 26, 93, 17, 77, 31, 44, 55, 20]\n",
    "print(li)\n",
    "sorted_li = merge_sort(li)\n",
    "print(sorted_li)"
   ]
  },
  {
   "cell_type": "code",
   "execution_count": 2,
   "id": "efafb877-d375-4d1a-b1db-31bdaf4f56e1",
   "metadata": {},
   "outputs": [
    {
     "name": "stdout",
     "output_type": "stream",
     "text": [
      "[10, 20, 30, 40, 50, 60]\n"
     ]
    }
   ],
   "source": [
    "# 快速排序，前序遍历，构造一颗二叉搜索树的过程\n",
    "# 初始状态： \n",
    "#     30 40 60 10 20 50\n",
    "#     low = 30\n",
    "# 第一趟：\n",
    "#     30 40 60 10 [20] 50\n",
    "#     20 40 60 10  20  50\n",
    "# 第二趟：\n",
    "#     20 [40] 60 10 20 50\n",
    "#     20 40 60 10 40 50\n",
    "# 第三趟：\n",
    "#     20 40 60 [10] 40 50\n",
    "#     20 10 60 10 40 50\n",
    "# 第三趟：\n",
    "#     20 10 [60] 10 40 50\n",
    "#     20 10 60 60 40 50\n",
    "#     20 10 30 60 40 50\n",
    "\n",
    "def partition(array, left, right):\n",
    "    tmp = array[left]\n",
    "    while left < right:\n",
    "        while left < right and array[right] >= tmp:\n",
    "            right -= 1\n",
    "        array[left] = array[right]\n",
    "        while left < right and array[left] <= tmp:\n",
    "            left += 1\n",
    "        array[right] = array[left]\n",
    "    array[left] = tmp\n",
    "    return left\n",
    "\n",
    "def quick_sort(array, left, right):\n",
    "    if left < right:\n",
    "        mid = partition(array, left, right)\n",
    "        quick_sort(array, left, mid - 1)\n",
    "        quick_sort(array, mid + 1, right)\n",
    "        \n",
    "a = [30, 40, 60, 10, 20, 50]\n",
    "quick_sort(a, 0, len(a) - 1)\n",
    "print(a)"
   ]
  },
  {
   "cell_type": "code",
   "execution_count": null,
   "id": "4893b865-4c26-4a29-a499-b9d55e38b92a",
   "metadata": {},
   "outputs": [],
   "source": []
  },
  {
   "cell_type": "code",
   "execution_count": null,
   "id": "732fe83c-7fd2-4f05-a6bc-f08359236f26",
   "metadata": {},
   "outputs": [],
   "source": []
  }
 ],
 "metadata": {
  "kernelspec": {
   "display_name": "Python 3",
   "language": "python",
   "name": "python3"
  },
  "language_info": {
   "codemirror_mode": {
    "name": "ipython",
    "version": 3
   },
   "file_extension": ".py",
   "mimetype": "text/x-python",
   "name": "python",
   "nbconvert_exporter": "python",
   "pygments_lexer": "ipython3",
   "version": "3.6.8"
  }
 },
 "nbformat": 4,
 "nbformat_minor": 5
}
