{
 "cells": [
  {
   "cell_type": "markdown",
   "id": "11ed04a0-7492-451d-9e23-89b91e25f123",
   "metadata": {},
   "source": [
    "### 数组"
   ]
  },
  {
   "cell_type": "code",
   "execution_count": 3,
   "id": "d3cbfe68-e459-41a4-8a28-960a1b433bc8",
   "metadata": {},
   "outputs": [
    {
     "name": "stdout",
     "output_type": "stream",
     "text": [
      "[[1, 6], [8, 10], [15, 18]]\n"
     ]
    }
   ],
   "source": [
    "# leetcode 56: 合并区间\n",
    "def merge(intervals):\n",
    "    intervals = sorted(intervals)\n",
    "    res = []\n",
    "    n = len(intervals)\n",
    "    i = 0\n",
    "    while i < n:\n",
    "        left = intervals[i][0]\n",
    "        right = intervals[i][1]\n",
    "        while i < n - 1 and intervals[i + 1][0] <= right:\n",
    "            i += 1\n",
    "            right = max(right, intervals[i][1])\n",
    "        i += 1\n",
    "        res.append([left, right])\n",
    "    return res\n",
    "    \n",
    "intervals = [[1, 3], [2, 6], [8, 10], [15, 18]]\n",
    "print(merge(intervals))"
   ]
  },
  {
   "cell_type": "code",
   "execution_count": null,
   "id": "37f2b983-47e0-4abc-9da1-8bffbd0e15ba",
   "metadata": {},
   "outputs": [],
   "source": []
  },
  {
   "cell_type": "code",
   "execution_count": null,
   "id": "67913fc9-701a-495f-b179-a14d2c959a38",
   "metadata": {},
   "outputs": [],
   "source": []
  },
  {
   "cell_type": "markdown",
   "id": "60286231-2d26-4ff1-a749-745ec8b169bb",
   "metadata": {},
   "source": [
    "### 链表"
   ]
  },
  {
   "cell_type": "code",
   "execution_count": 4,
   "id": "4b7ab6eb-1cf2-4933-9758-b5292cd158e1",
   "metadata": {},
   "outputs": [
    {
     "name": "stdout",
     "output_type": "stream",
     "text": [
      "[0, 1, 2, 3, 4]\n"
     ]
    }
   ],
   "source": [
    "# 链表\n",
    "class LinkNode:\n",
    "    def __init__(self, val):\n",
    "        self.val = val\n",
    "        self.next = None\n",
    "        \n",
    "res = []\n",
    "\n",
    "def link_traverse(head):\n",
    "    cur = head\n",
    "    while cur:\n",
    "        res.append(cur.val)\n",
    "        cur = cur.next\n",
    "\n",
    "head = LinkNode(0)\n",
    "node1 = LinkNode(1)\n",
    "node2 = LinkNode(2)\n",
    "node3 = LinkNode(3)\n",
    "node4 = LinkNode(4)\n",
    "head.next = node1\n",
    "node1.next = node2\n",
    "node2.next = node3\n",
    "node3.next = node4\n",
    "\n",
    "link_traverse(head)\n",
    "print(res)"
   ]
  },
  {
   "cell_type": "code",
   "execution_count": 5,
   "id": "a7659f44-c063-4720-b3ba-2fe5a8b59750",
   "metadata": {},
   "outputs": [],
   "source": [
    "# 反转链表\n",
    "def reverseList(head):\n",
    "    if head == None or head.next == None:\n",
    "        return head\n",
    "    \n",
    "    pre = None\n",
    "    cur = head\n",
    "    while cur:\n",
    "        tmp = cur.next\n",
    "        cur.next = pre\n",
    "        pre = cur\n",
    "        cur = tmp\n",
    "    return pre"
   ]
  },
  {
   "cell_type": "code",
   "execution_count": 6,
   "id": "14d99bf4-5384-4836-b086-ecc60c30b04e",
   "metadata": {},
   "outputs": [],
   "source": [
    "# 反转链表II\n",
    "# leetcode 92: 指定区间的链表反转\n",
    "def reverseBetween(self, head, left, right):\n",
    "    if left == right:\n",
    "        return head\n",
    "    dummy = ListNode(0)\n",
    "    dummy.next = head\n",
    "    a, d = dummy, dummy\n",
    "    for _ in range(left - 1):\n",
    "        a = a.next\n",
    "    for _ in range(right):\n",
    "        d = d.next\n",
    "    b, c = a.next, d.next\n",
    "    \n",
    "    # o o o a b o o d c o o\n",
    "    pre = b\n",
    "    cur = pre.next\n",
    "    \n",
    "    while cur != c:\n",
    "        tmp = cur.next\n",
    "        cur.next = pre\n",
    "        pre = cur\n",
    "        cur = tmp\n",
    "    a.next = d\n",
    "    b.next = c\n",
    "    return dummy.next"
   ]
  },
  {
   "cell_type": "code",
   "execution_count": 7,
   "id": "2ee3a326-a4f9-458c-9d1e-e334d0243d9d",
   "metadata": {},
   "outputs": [],
   "source": [
    "# leetcode 0205: 链表加和\n",
    "# 数字个位存放在链表首位\n",
    "def addTwoNumbers(l1, l2):\n",
    "    dummy = ListNode(0)\n",
    "    node = dummy\n",
    "    remaining = 0\n",
    "    \n",
    "    while l1 or l2:\n",
    "        if not l1:\n",
    "            node.next = l2\n",
    "            l1 = ListNode(0)\n",
    "        if not l2:\n",
    "            node.next = l1\n",
    "            l2 = ListNode(0)\n",
    "        \n",
    "        # 两数相加\n",
    "        remaining += l1.val + l2.val\n",
    "        node.next = ListNode(remaining % 10)\n",
    "        remaining = remaining // 10\n",
    "        \n",
    "        node = node.next\n",
    "        l1 = l1.next\n",
    "        l2 = l2.next\n",
    "        \n",
    "    if remaining:\n",
    "        node.next = ListNode(remaining)\n",
    "        \n",
    "    return dummy.next"
   ]
  },
  {
   "cell_type": "code",
   "execution_count": null,
   "id": "03a4cce5-011f-4d08-af59-104982943596",
   "metadata": {},
   "outputs": [],
   "source": []
  },
  {
   "cell_type": "markdown",
   "id": "6127742b-4951-447f-a2b8-0358f6f1196d",
   "metadata": {},
   "source": [
    "### 二分搜索"
   ]
  },
  {
   "cell_type": "code",
   "execution_count": 8,
   "id": "71ba3e49-37c5-4fb8-85a5-bdc624da408e",
   "metadata": {},
   "outputs": [
    {
     "name": "stdout",
     "output_type": "stream",
     "text": [
      "5\n",
      "4\n",
      "6\n"
     ]
    }
   ],
   "source": [
    "# 二分搜索\n",
    "def binary_search(arr, target):\n",
    "    if len(arr) == 0:\n",
    "        return -1\n",
    "    left = 0\n",
    "    right = len(arr) - 1\n",
    "    while(left <= right):\n",
    "        mid = (left + right) // 2\n",
    "        if arr[mid] == target:\n",
    "            return mid\n",
    "        elif arr[mid] < target:\n",
    "            left = mid + 1\n",
    "        elif arr[mid] > target:\n",
    "            right = mid - 1\n",
    "    return -1\n",
    "\n",
    "def binary_search_left_bound(arr, target):\n",
    "    if len(arr) == 0:\n",
    "        return -1\n",
    "    left, right = 0, len(arr) - 1\n",
    "    while(left <= right):\n",
    "        mid = (left + right) // 2\n",
    "        if arr[mid] == target:\n",
    "            right = mid - 1 # 不返回，锁定左侧边界\n",
    "        elif arr[mid] < target:\n",
    "            left = mid + 1\n",
    "        elif arr[mid] > target:\n",
    "            right = mid - 1\n",
    "    if left == len(arr):\n",
    "        return -1\n",
    "    if arr[left] == target:\n",
    "        return left\n",
    "    else:\n",
    "        return -1\n",
    "\n",
    "def binary_search_right_bound(arr, target):\n",
    "    if len(arr) == 0:\n",
    "        return -1\n",
    "    left, right = 0, len(arr) - 1\n",
    "    while(left <= right):\n",
    "        mid = (left + right) // 2\n",
    "        if arr[mid] == target:\n",
    "            left = mid + 1 # 不返回，锁定右侧边界\n",
    "        elif arr[mid] < target:\n",
    "            left = mid + 1\n",
    "        elif arr[mid] > target:\n",
    "            right = mid - 1\n",
    "    if left - 1 < 0:\n",
    "        return -1\n",
    "    if arr[left - 1] == target:\n",
    "        return left - 1\n",
    "    else:\n",
    "        return -1\n",
    "    \n",
    "print(binary_search([1, 2, 2, 2, 3, 3, 4], 3))\n",
    "print(binary_search_left_bound([1, 2, 2, 2, 3, 3, 3, 4], 3))\n",
    "print(binary_search_right_bound([1, 2, 2, 2, 3, 3, 3, 4], 3))"
   ]
  },
  {
   "cell_type": "markdown",
   "id": "f3bb6435-78da-4866-8451-461fd74b2976",
   "metadata": {},
   "source": [
    "### 栈"
   ]
  },
  {
   "cell_type": "code",
   "execution_count": 9,
   "id": "0c880670-ffdb-435e-812a-5179763220c0",
   "metadata": {},
   "outputs": [],
   "source": [
    "# 单调栈：每次新元素入栈后，栈内的元素都保持有序（单调递增或单调递减）\n",
    "# leetcode 496 下一个更大元素 I\n",
    "def nextGreaterElement(self, nums1, nums2):\n",
    "    res = {}\n",
    "    stack = []\n",
    "    for num in reversed(nums2):\n",
    "        while stack and num >= stack[-1]:\n",
    "            stack.pop()\n",
    "        res[num] = stack[-1] if stack else -1\n",
    "        stack.append(num)\n",
    "    return [res[num] for num in nums1]\n",
    "\n",
    "# leetcode 503 下一个更大元素 II\n",
    "def nextGreaterElements(self, nums):\n",
    "    n = len(nums)\n",
    "    ret = [-1] * n\n",
    "    stk = list()\n",
    "\n",
    "    for i in range(n * 2 - 1):\n",
    "        while stk and nums[stk[-1]] < nums[i % n]:\n",
    "            ret[stk.pop()] = nums[i % n]\n",
    "        stk.append(i % n)\n",
    "\n",
    "    return ret"
   ]
  },
  {
   "cell_type": "code",
   "execution_count": null,
   "id": "626f7c28-3e36-4871-9323-851a438a0c71",
   "metadata": {},
   "outputs": [],
   "source": []
  },
  {
   "cell_type": "code",
   "execution_count": null,
   "id": "8844b148-fefb-4f80-b96d-ff25cac1b3b3",
   "metadata": {},
   "outputs": [],
   "source": []
  },
  {
   "cell_type": "markdown",
   "id": "570b5a12-1f6c-474a-abf7-62ee47f9ec03",
   "metadata": {},
   "source": [
    "### 队列"
   ]
  },
  {
   "cell_type": "code",
   "execution_count": 10,
   "id": "7459f36e-8a28-4c67-a7b2-025e43f21dbc",
   "metadata": {},
   "outputs": [],
   "source": [
    "# 单调队列，队列中元素按顺序排列，满足单调性的双端队列一般称作单调队列\n",
    "# 和优先级队列区别：优先级队列无法满足标准队列结构先进先出的时间顺序\n",
    "# leetcode 239 滑动窗口最大值\n",
    "class Solution_heapq:\n",
    "    def maxSlidingWindow(self, nums, k):\n",
    "        n = len(nums)\n",
    "        # 注意 Python 默认的优先队列是小根堆\n",
    "        q = [(-nums[i], i) for i in range(k)]\n",
    "        heapq.heapify(q)  # 将列表转化为堆\n",
    "\n",
    "        ans = [-q[0][0]]\n",
    "        for i in range(k, n):\n",
    "            heapq.heappush(q, (-nums[i], i))\n",
    "            while q[0][1] <= i - k:  # 最大值索引位于窗口左侧\n",
    "                heapq.heappop(q)\n",
    "            ans.append(-q[0][0])\n",
    "\n",
    "        return ans\n",
    "\n",
    "class Solution_deque:\n",
    "    def maxSlidingWindow(self, nums, k):\n",
    "        n = len(nums)\n",
    "        q = collections.deque()\n",
    "        for i in range(k):\n",
    "            while q and nums[i] >= nums[q[-1]]:\n",
    "                q.pop()\n",
    "            q.append(i)\n",
    "\n",
    "        ans = [nums[q[0]]]\n",
    "        for i in range(k, n):\n",
    "            while q and nums[i] >= nums[q[-1]]:\n",
    "                q.pop()\n",
    "            q.append(i)\n",
    "            while q[0] <= i - k:\n",
    "                q.popleft()\n",
    "            ans.append(nums[q[0]])\n",
    "\n",
    "        return ans"
   ]
  },
  {
   "cell_type": "code",
   "execution_count": 11,
   "id": "96c20c47-6af3-40dc-ad88-1c76d26dd0fa",
   "metadata": {},
   "outputs": [],
   "source": [
    "# 栈实现队列，leetcode 232\n",
    "class MyQueue:\n",
    "    def __init__(self):\n",
    "        self.stack_in = []\n",
    "        self.stack_out = []\n",
    "\n",
    "    def push(self, x: int) -> None:\n",
    "        self.stack_in.append(x)\n",
    "\n",
    "    def pop(self) -> int:\n",
    "        if self.empty():\n",
    "            return None\n",
    "        if self.stack_out:\n",
    "            return self.stack_out.pop()\n",
    "        else:\n",
    "            while self.stack_in:\n",
    "                self.stack_out.append(self.stack_in.pop())\n",
    "            return self.stack_out.pop()\n",
    "\n",
    "    def peek(self) -> int:\n",
    "        ans = self.pop()\n",
    "        self.stack_out.append(ans)\n",
    "        return ans\n",
    "\n",
    "    def empty(self) -> bool:\n",
    "        return not (self.stack_in or self.stack_out)\n",
    "\n",
    "\n",
    "# 队列实现栈，leetode 225\n",
    "from collections import deque\n",
    "\n",
    "\n",
    "class MyStack:\n",
    "\n",
    "    def __init__(self):\n",
    "        self.queue1 = deque()\n",
    "        self.queue2 = deque()\n",
    "\n",
    "    def push(self, x: int) -> None:\n",
    "        self.queue1.append(x)\n",
    "        while self.queue2:\n",
    "            tmp = self.queue2.popleft()\n",
    "            self.queue1.append(tmp)\n",
    "        self.queue1, self.queue2 = self.queue2, self.queue1\n",
    "\n",
    "    def pop(self) -> int:\n",
    "        return self.queue2.popleft()\n",
    "\n",
    "    def top(self) -> int:\n",
    "        if self.queue2:\n",
    "            return self.queue2[0]\n",
    "\n",
    "    def empty(self) -> bool:\n",
    "        return not bool(self.queue2)"
   ]
  },
  {
   "cell_type": "code",
   "execution_count": null,
   "id": "28532b56-2cc8-47ee-9aea-37b1d4d87245",
   "metadata": {},
   "outputs": [],
   "source": []
  },
  {
   "cell_type": "markdown",
   "id": "94c8f519-c8d6-4bcb-84cc-5394be0a78c1",
   "metadata": {},
   "source": [
    "### 堆"
   ]
  },
  {
   "cell_type": "code",
   "execution_count": 12,
   "id": "87b11d5a-e1e6-4d05-884b-b0841698fb0f",
   "metadata": {},
   "outputs": [],
   "source": [
    "# 数据流中位数\n",
    "# leetcode 295\n",
    "import heapq\n",
    "\n",
    "\n",
    "class MedianFinder:\n",
    "    def __init__(self):\n",
    "        self.minheap = []\n",
    "        self.maxheap = []\n",
    "\n",
    "    def addNum(self, num: int) -> None:\n",
    "        if not self.minheap or num <= -self.minheap[0]:  # 如果之前为空或者当前要进来的元素比minheap最大的元素还小\n",
    "            heapq.heappush(self.minheap, -num)\n",
    "            if len(self.minheap) > len(self.maxheap) + 1:  # 如果minheap队列比另一个长度大1以上，则应该把一个元素拿出来放到另一个队列中\n",
    "                heapq.heappush(self.maxheap, -heapq.heappop(self.minheap))\n",
    "        else:\n",
    "            heapq.heappush(self.maxheap, num)\n",
    "            if len(self.maxheap) > len(self.minheap) + 1:  # # 如果maxheap队列比另一个长度大1以上，则应该把一个元素拿出来放到另一个队列中\n",
    "                heapq.heappush(self.minheap, -heapq.heappop(self.maxheap))\n",
    "\n",
    "    def findMedian(self) -> float:\n",
    "        if len(self.minheap) == len(self.maxheap):\n",
    "            return (-self.minheap[0] + self.maxheap[0]) / 2\n",
    "        elif len(self.minheap) > len(self.maxheap):\n",
    "            return -self.minheap[0]\n",
    "        else:\n",
    "            return self.maxheap[0]"
   ]
  },
  {
   "cell_type": "code",
   "execution_count": 13,
   "id": "db0347fe-55b4-4a8e-8f10-0124657eada2",
   "metadata": {},
   "outputs": [
    {
     "name": "stdout",
     "output_type": "stream",
     "text": [
      "[2, 5, 3, 123, 63, 12, 4]\n",
      "[2, 3, 4]\n",
      "[123, 63, 12]\n",
      "3\n",
      "1 2 3 \n",
      "0\n"
     ]
    }
   ],
   "source": [
    "# 二叉堆，Binary Heap\n",
    "# 最大堆，每个节点大于两个子节点\n",
    "# 最小堆，每个节点小于两个子节点（Python库，默认）\n",
    "# 优先级队列，插入删除时，元素会自动排列\n",
    "import heapq\n",
    "\n",
    "heap = [12, 2, 4, 5, 63, 3, 2]\n",
    "heapq.heapify(heap) # 将列表转化为堆\n",
    "heapq.heappush(heap, 123) # 向堆添加元素\n",
    "heapq.heappop(heap) # 弹出堆顶值\n",
    "print(heap)\n",
    "print(heapq.nsmallest(3, heap))\n",
    "print(heapq.nlargest(3, heap))\n",
    "\n",
    "import queue\n",
    "\n",
    "p = queue.PriorityQueue()\n",
    "p.put(1)\n",
    "p.put(3)\n",
    "p.put(2)\n",
    "print(p.qsize())\n",
    "\n",
    "for i in range(0, 3):\n",
    "    print(p.get(), end=' ') # 删除队首元素并返回该元素\n",
    "print()\n",
    "print(p.qsize())"
   ]
  },
  {
   "cell_type": "code",
   "execution_count": null,
   "id": "e2507f96-9569-4140-a0d4-795e57fe65c6",
   "metadata": {},
   "outputs": [],
   "source": []
  },
  {
   "cell_type": "code",
   "execution_count": null,
   "id": "da5c9bb5-9202-43f3-bf52-49dfb9883ba1",
   "metadata": {},
   "outputs": [],
   "source": []
  },
  {
   "cell_type": "markdown",
   "id": "5bbab9ca-bf9b-4dcc-a118-736eab74c5a9",
   "metadata": {},
   "source": [
    "### 字符串\n"
   ]
  },
  {
   "cell_type": "code",
   "execution_count": 14,
   "id": "1c3959a1-a2e6-4a34-af45-4e1ecf9a7b91",
   "metadata": {},
   "outputs": [],
   "source": [
    "# leetcode 28 实现 strStr()\n",
    "def strStr_kmp(self, haystack: str, needle: str) -> int:\n",
    "    # KMP 匹配算法，T 为文本串，p 为模式串\n",
    "    def kmp(T: str, p: str) -> int:\n",
    "        n, m = len(T), len(p)\n",
    "\n",
    "        next = generateNext(p)  # 生成 next 数组\n",
    "\n",
    "        i, j = 0, 0\n",
    "        while i < n and j < m:\n",
    "            if j == -1 or T[i] == p[j]:\n",
    "                i += 1\n",
    "                j += 1\n",
    "            else:\n",
    "                j = next[j]\n",
    "        if j == m:\n",
    "            return i - j\n",
    "\n",
    "        return -1\n",
    "\n",
    "    # 生成 next 数组\n",
    "    # next[i] 表示坏字符在模式串中最后一次出现的位置\n",
    "    def generateNext(p: str):\n",
    "        m = len(p)\n",
    "\n",
    "        next = [-1 for _ in range(m)]  # 初始化数组元素全部为 -1\n",
    "        i, k = 0, -1\n",
    "        while i < m - 1:  # 生成下一个 next 元素\n",
    "            if k == -1 or p[i] == p[k]:\n",
    "                i += 1\n",
    "                k += 1\n",
    "                if p[i] == p[k]:\n",
    "                    next[i] = next[k]  # 设置 next 元素\n",
    "                else:\n",
    "                    next[i] = k  # 退到更短相同前缀\n",
    "            else:\n",
    "                k = next[k]\n",
    "        return next\n",
    "\n",
    "    return kmp(haystack, needle)"
   ]
  },
  {
   "cell_type": "code",
   "execution_count": null,
   "id": "98474380-9f37-44d3-8abf-d44d51fe72e1",
   "metadata": {},
   "outputs": [],
   "source": []
  },
  {
   "cell_type": "markdown",
   "id": "bdef0d43-28e8-4ebd-b507-0a58b37790dd",
   "metadata": {},
   "source": [
    "### LRU"
   ]
  },
  {
   "cell_type": "code",
   "execution_count": 16,
   "id": "74ee4a26-f4e2-427e-9d18-0b18a49517bf",
   "metadata": {},
   "outputs": [],
   "source": [
    "# LRU缓存，LinkedHashmap\n",
    "# leetcode 146\n",
    "import collections\n",
    "\n",
    "class LRUCache(collections.OrderedDict):\n",
    "    def __init__(self, capacity: int):\n",
    "        super().__init__()\n",
    "        self.capacity = capacity\n",
    "\n",
    "    def get(self, key: int) -> int:\n",
    "        if key not in self:\n",
    "            return -1\n",
    "        self.move_to_end(key)\n",
    "        return self[key]\n",
    "\n",
    "    def put(self, key: int, value: int) -> None:\n",
    "        if key in self:\n",
    "            self.move_to_end(key)\n",
    "        self[key] = value\n",
    "        if len(self) > self.capacity:\n",
    "            self.popitem(last=False)\n",
    "\n",
    "\n",
    "# LFU缓存，LinkedHashmap\n",
    "# leetcode 460"
   ]
  },
  {
   "cell_type": "code",
   "execution_count": null,
   "id": "2778b800-8931-4ed2-bad1-6832d2d7d6f6",
   "metadata": {},
   "outputs": [],
   "source": []
  },
  {
   "cell_type": "code",
   "execution_count": null,
   "id": "ca13a908-f9f5-407e-999d-d3e35f041f10",
   "metadata": {},
   "outputs": [],
   "source": []
  },
  {
   "cell_type": "markdown",
   "id": "4effb99b-ca4c-473e-94fe-18d90c99975b",
   "metadata": {},
   "source": [
    "### Python内置"
   ]
  },
  {
   "cell_type": "code",
   "execution_count": 17,
   "id": "44e509f6-2261-44ea-858e-7b14e4ad5d4b",
   "metadata": {},
   "outputs": [
    {
     "name": "stdout",
     "output_type": "stream",
     "text": [
      "['AsyncGenerator', 'AsyncIterable', 'AsyncIterator', 'Awaitable', 'ByteString', 'Callable', 'ChainMap', 'Collection', 'Container', 'Coroutine', 'Counter', 'Generator', 'Hashable', 'ItemsView', 'Iterable', 'Iterator', 'KeysView', 'Mapping', 'MappingView', 'MutableMapping', 'MutableSequence', 'MutableSet', 'OrderedDict', 'Reversible', 'Sequence', 'Set', 'Sized', 'UserDict', 'UserList', 'UserString', 'ValuesView', '_Link', '_OrderedDictItemsView', '_OrderedDictKeysView', '_OrderedDictValuesView', '__all__', '__builtins__', '__cached__', '__doc__', '__file__', '__loader__', '__name__', '__package__', '__path__', '__spec__', '_chain', '_class_template', '_collections_abc', '_count_elements', '_eq', '_field_template', '_heapq', '_iskeyword', '_itemgetter', '_proxy', '_recursive_repr', '_repeat', '_repr_template', '_starmap', '_sys', 'abc', 'defaultdict', 'deque', 'namedtuple']\n"
     ]
    }
   ],
   "source": [
    "from collections import *\n",
    "\n",
    "print(dir(collections))"
   ]
  },
  {
   "cell_type": "code",
   "execution_count": 18,
   "id": "ab09104a-3601-4c34-a88d-f7bad7775e59",
   "metadata": {},
   "outputs": [
    {
     "name": "stdout",
     "output_type": "stream",
     "text": [
      "Points(x=2, y=3)\n"
     ]
    }
   ],
   "source": [
    "# 命名元组\n",
    "point = collections.namedtuple('Points', ['x', 'y'])\n",
    "p1 = point(2, 3)\n",
    "p2 = point(4, 2)\n",
    "print(p1)"
   ]
  },
  {
   "cell_type": "code",
   "execution_count": 19,
   "id": "097492d0-1190-48c5-abdc-c033e054f103",
   "metadata": {},
   "outputs": [
    {
     "name": "stdout",
     "output_type": "stream",
     "text": [
      "deque(['a', 'b', 'c', 'd'], maxlen=10)\n",
      "a\n",
      "deque(['b', 'c', 'd'], maxlen=10)\n",
      "deque(['b', 'c', 'd', 'i', 'j'], maxlen=10)\n",
      "1\n",
      "deque(['b', 'c', 'i', 'j'], maxlen=10)\n",
      "deque(['j', 'i', 'c', 'b'], maxlen=10)\n",
      "10\n"
     ]
    }
   ],
   "source": [
    "# deque双端队列\n",
    "q = deque(['a', 'b', 'c'], maxlen=10)\n",
    "\n",
    "q.append('d')\n",
    "print(q)\n",
    "\n",
    "print(q.popleft())\n",
    "print(q)\n",
    "\n",
    "q.extend(['i', 'j'])\n",
    "print(q)\n",
    "\n",
    "print(q.index('c'))\n",
    "\n",
    "q.remove('d')\n",
    "print(q)\n",
    "\n",
    "q.reverse()\n",
    "print(q)\n",
    "\n",
    "print(q.maxlen)"
   ]
  },
  {
   "cell_type": "code",
   "execution_count": 20,
   "id": "383a8f92-cc3d-449b-8da2-fda838c43854",
   "metadata": {},
   "outputs": [
    {
     "name": "stdout",
     "output_type": "stream",
     "text": [
      "defaultdict(<class 'int'>, {'m': 1, 'i': 4, 's': 4, 'p': 2})\n"
     ]
    }
   ],
   "source": [
    "# defaultdict 默认值字典\n",
    "s = 'mississippi'\n",
    "d = defaultdict(int)\n",
    "for k in s:\n",
    "    d[k] += 1\n",
    "\n",
    "print(d)"
   ]
  },
  {
   "cell_type": "code",
   "execution_count": 21,
   "id": "a7e8db06-00f5-4e7a-9469-9d99db0a7127",
   "metadata": {},
   "outputs": [
    {
     "name": "stdout",
     "output_type": "stream",
     "text": [
      "OrderedDict([('a', 1), ('b', 2), ('c', 3), ('d', 4), ('e', 5)])\n",
      "('e', 5)\n",
      "OrderedDict([('a', 1), ('b', 2), ('d', 4), ('c', 3)])\n"
     ]
    }
   ],
   "source": [
    "# OrderedDict 有序字典\n",
    "d = OrderedDict(a=1, b=2, c=3, d=4,e=5)\n",
    "print(d)\n",
    "print(d.popitem(last=True))\n",
    "\n",
    "d.move_to_end(key='c', last=True)\n",
    "print(d)"
   ]
  },
  {
   "cell_type": "code",
   "execution_count": 22,
   "id": "221c54bb-29e5-4023-8dd9-d13872e25851",
   "metadata": {},
   "outputs": [
    {
     "name": "stdout",
     "output_type": "stream",
     "text": [
      "Counter({'s': 4, 'd': 3, 'f': 2, 'a': 2, 'l': 2, 'j': 1, 'k': 1, 'g': 1})\n",
      "Counter({'s': 4, 'f': 3, 'j': 3, 'l': 3, 'a': 1, 'd': 1, 'g': 1, 'k': 1})\n"
     ]
    }
   ],
   "source": [
    "# Counter 计数\n",
    "c = Counter()\n",
    "for i in 'sfsadfsdjklgsdla':\n",
    "    c[i] +=  1\n",
    "print(c)\n",
    "\n",
    "c2 = Counter('asfjslfjsdlfjgkls')\n",
    "print(c2)"
   ]
  },
  {
   "cell_type": "code",
   "execution_count": null,
   "id": "3ba8584b-d37e-477f-b4f4-51474567982a",
   "metadata": {},
   "outputs": [],
   "source": []
  },
  {
   "cell_type": "code",
   "execution_count": null,
   "id": "c6aa712d-8c38-4986-bdd4-441b49285fa4",
   "metadata": {},
   "outputs": [],
   "source": []
  },
  {
   "cell_type": "markdown",
   "id": "2f8362bf-f920-446a-875b-5b57b9ec42d5",
   "metadata": {},
   "source": [
    "### 位运算"
   ]
  },
  {
   "cell_type": "code",
   "execution_count": null,
   "id": "379f146f-dbc3-464f-ba99-fa2aa24433ea",
   "metadata": {},
   "outputs": [],
   "source": [
    "import collections\n",
    "from typing import List\n",
    "\n",
    "# leetcode 136 只出现一次的数字\n",
    "def singleNumber(self, nums: List[int]) -> int:\n",
    "    return 2 * sum(set(nums)) - sum(nums)\n",
    "\n",
    "def singleNumber(self, nums: List[int]) -> int:\n",
    "    val = 0\n",
    "    for i in nums:\n",
    "        # 任何数和自身异或为0，和0异或为自身\n",
    "        val = val ^ i\n",
    "    return val\n",
    "\n",
    "# leetcode 191 位1的个数\n",
    "def hammingWeight(self, n: int) -> int:\n",
    "    count = 0\n",
    "    for i in range(32):\n",
    "        if (n >> i) & 1:\n",
    "            count += 1\n",
    "    return count\n",
    "\n",
    "def hammingWeight(self, n: int) -> int:\n",
    "    return collections.Counter(str(bin(n)))['1']\n",
    "\n",
    "def hammingWeight(self, n: int) -> int:\n",
    "    res = 0\n",
    "    while n != 0:\n",
    "        n = n & (n - 1) # 可以消掉最后一位1\n",
    "        res += 1\n",
    "    return res\n",
    "\n",
    "# leetcode 204 计算质数\n",
    "def countPrimes(self, n: int) -> int:\n",
    "    is_prime = [1] * n\n",
    "    \n",
    "    count = 0\n",
    "    for i in range(2, n):\n",
    "        # 将质数的倍数都标记为合数\n",
    "        if is_prime[i]:\n",
    "            count += 1\n",
    "            # 从i*i开始标记\n",
    "            for j in range(i * i, n, i):\n",
    "                is_prime[jj] = 0\n",
    "    return count"
   ]
  },
  {
   "cell_type": "code",
   "execution_count": null,
   "id": "9e015f1b-ba1d-459e-a2c8-9e9a32b79a64",
   "metadata": {},
   "outputs": [],
   "source": []
  },
  {
   "cell_type": "code",
   "execution_count": null,
   "id": "876978a5-488e-4b39-948b-f750f7e4ccb3",
   "metadata": {},
   "outputs": [],
   "source": []
  }
 ],
 "metadata": {
  "kernelspec": {
   "display_name": "Python 3",
   "language": "python",
   "name": "python3"
  },
  "language_info": {
   "codemirror_mode": {
    "name": "ipython",
    "version": 3
   },
   "file_extension": ".py",
   "mimetype": "text/x-python",
   "name": "python",
   "nbconvert_exporter": "python",
   "pygments_lexer": "ipython3",
   "version": "3.6.8"
  }
 },
 "nbformat": 4,
 "nbformat_minor": 5
}
