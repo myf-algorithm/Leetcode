{
 "cells": [
  {
   "cell_type": "code",
   "execution_count": 3,
   "id": "9f547de3-5358-4584-823c-b0f695d96d36",
   "metadata": {},
   "outputs": [],
   "source": [
    "from typing import List"
   ]
  },
  {
   "cell_type": "code",
   "execution_count": 4,
   "id": "72a73cc1-3c67-4cd1-9ec0-50a32913b517",
   "metadata": {},
   "outputs": [],
   "source": [
    "# 6 + (4 * 5) - 6\n",
    "# leetcode 224 基本计算器I\n",
    "def calculate(self, s: str) -> int:\n",
    "    stack = []\n",
    "    sign = 1  # 记录符号\n",
    "    num = 0 # 数字\n",
    "    res = 0 # 结果\n",
    "    for c in s:\n",
    "        if c.isdigit():\n",
    "            num = num * 10 + int(c)\n",
    "        elif c == '+':\n",
    "            res += sign * num\n",
    "            num = 0\n",
    "            sign = 1\n",
    "        elif c == '-':\n",
    "            res += sign * num\n",
    "            num = 0\n",
    "            sign = -1\n",
    "        elif c == '(':\n",
    "            stack.append(res)\n",
    "            stack.append(sign)\n",
    "            sign = 1\n",
    "            res = 0\n",
    "        elif c == ')':\n",
    "            res += sign * num\n",
    "            num = 0\n",
    "            res = stack.pop() * res + stack.pop()\n",
    "    res += sign * num\n",
    "    return res\n",
    "\n",
    "# 6 + 3 * 4 * 5 + 8\n",
    "# leetcode 227 基本计算器II\n",
    "def calculate(self, s: str) -> int:\n",
    "    n = len(s)\n",
    "    stack = []\n",
    "    presign = '+'\n",
    "    num = 0\n",
    "    for i in range(n):\n",
    "        if s[i] != ' ' and s[i].isdigit():\n",
    "            num = num * 10 + ord(s[i]) - ord('0')\n",
    "        if i == n - 1 or s[i] in '+-*/':\n",
    "            if presign == '+':\n",
    "                stack.append(num)\n",
    "            elif presign == '-':\n",
    "                stack.append(num)\n",
    "            elif presign == '*':\n",
    "                stack.append(stack.pop() * num)\n",
    "            else:\n",
    "                stack.append(int(stack.pop() / num))\n",
    "            presign = s[i]\n",
    "            num = 0\n",
    "    return sum(stack)"
   ]
  },
  {
   "cell_type": "code",
   "execution_count": 5,
   "id": "2339d25d-bdbb-45b4-8804-45cfdee321dc",
   "metadata": {},
   "outputs": [],
   "source": [
    "# leetcode 241 为运算表达式设计优先级\n",
    "# 分治思想\n",
    "class Solution:\n",
    "    def diffWaysToCompute(self, expression: str) -> List[int]:\n",
    "        if expression.isdigit():\n",
    "            return [int(expression)]\n",
    "        nums = []\n",
    "        for i, char in enumerate(expression):\n",
    "            if char in ['+', '-', '*']:\n",
    "                # 分解：遇到运算符，计算左右两侧的结果集\n",
    "                left = self.diffWaysToCompute(expression[:i])\n",
    "                right = self.diffWaysToCompute(expression[i + 1:])\n",
    "\n",
    "                # 合并：根据运算符合并子集的解\n",
    "                for l in left:\n",
    "                    for r in right:\n",
    "                        if char == '+':\n",
    "                            nums.append(l + r)\n",
    "                        if char == '-':\n",
    "                            nums.append(l - r)\n",
    "                        if char == '*':\n",
    "                            nums.append(l * r)\n",
    "        return nums"
   ]
  },
  {
   "cell_type": "code",
   "execution_count": 6,
   "id": "faff2798-6604-4d69-a1c2-456e102aeaf9",
   "metadata": {},
   "outputs": [],
   "source": [
    "# leetcode 11 盛最多水的容器\n",
    "class Solution:\n",
    "    def maxArea(self, height: List[int]) -> int:\n",
    "        left = 0\n",
    "        right = len(height) - 1\n",
    "        area = 0\n",
    "        while left < right:\n",
    "            cur = min(height[left], height[right]) * (right - left)\n",
    "            area = max(area, cur)\n",
    "            if height[left] < height[right]:\n",
    "                left += 1\n",
    "            else:\n",
    "                right -= 1\n",
    "        return area"
   ]
  },
  {
   "cell_type": "code",
   "execution_count": 7,
   "id": "b0eb54f5-4470-43e6-b7f8-df483fbc8571",
   "metadata": {},
   "outputs": [],
   "source": [
    "# leetcode 42 接雨水\n",
    "# 遍历，备忘录\n",
    "class Solution:\n",
    "    def trap(self, height: List[int]) -> int:\n",
    "        n = len(height)\n",
    "        left_max = [0] * n\n",
    "        right_max = [0] * n\n",
    "        left_max[0] = height[0]\n",
    "        right_max[n - 1] = height[n - 1]\n",
    "        \n",
    "        for i in range(1, n):\n",
    "            left_max[i] = max(height[i], left_max[i - 1])\n",
    "        for i in range(n - 2, 0, -1):\n",
    "            right_max[i] = max(height[i], right_max[i + 1])\n",
    "        \n",
    "        res = 0\n",
    "        for i in range(1, n - 1):\n",
    "            res += min(right_max[i], left_max[i]) - height[i]\n",
    "        return res\n",
    "\n",
    "# 双指针\n",
    "class Solution:\n",
    "    def trap(self, height: List[int]) -> int:\n",
    "        left = 0\n",
    "        right = len(height) - 1\n",
    "        left_max = 0\n",
    "        right_max = 0\n",
    "        res = 0\n",
    "        while left < right:\n",
    "            left_max = max(left_max, height[left])\n",
    "            right_max = max(right_max, height[right])\n",
    "            if left_max < right_max:\n",
    "                res += (left_max - height[left])\n",
    "                left += 1\n",
    "            else:\n",
    "                res += (right_max - height[right])\n",
    "                right -= 1\n",
    "        return res"
   ]
  },
  {
   "cell_type": "code",
   "execution_count": null,
   "id": "1893a140-6ba7-44f9-abda-0b4395d646b3",
   "metadata": {},
   "outputs": [],
   "source": []
  },
  {
   "cell_type": "code",
   "execution_count": null,
   "id": "edfbf309-d628-4fef-823b-3f5c07331fc0",
   "metadata": {},
   "outputs": [],
   "source": []
  },
  {
   "cell_type": "code",
   "execution_count": null,
   "id": "3aac1de9-c24a-4827-aa9e-eba1886d57d6",
   "metadata": {},
   "outputs": [],
   "source": []
  },
  {
   "cell_type": "code",
   "execution_count": null,
   "id": "26cf5ba7-b35b-403c-bf38-cd2b1eb062b6",
   "metadata": {},
   "outputs": [],
   "source": []
  },
  {
   "cell_type": "code",
   "execution_count": null,
   "id": "08589be5-f15e-42c5-b64f-f30c22dfe7cb",
   "metadata": {},
   "outputs": [],
   "source": []
  },
  {
   "cell_type": "code",
   "execution_count": null,
   "id": "d3781d01-bbb6-4c7c-916e-922dca49c452",
   "metadata": {},
   "outputs": [],
   "source": []
  },
  {
   "cell_type": "code",
   "execution_count": 10,
   "id": "6f0f894f-9a16-4271-94ff-8b195489425a",
   "metadata": {},
   "outputs": [
    {
     "data": {
      "text/plain": [
       "2"
      ]
     },
     "execution_count": 10,
     "metadata": {},
     "output_type": "execute_result"
    }
   ],
   "source": [
    "# 二分搜索，查找左边界\n",
    "def binary_search_left_bound(x, target):\n",
    "    left, right = 0, len(x) - 1\n",
    "    while left <= right:\n",
    "        mid = (left + right) // 2\n",
    "        if x[mid] == target:\n",
    "            right = mid - 1\n",
    "        elif x[mid] < target:\n",
    "            left = mid + 1\n",
    "        elif x[mid] > target:\n",
    "            right = mid - 1\n",
    "            \n",
    "    if left == len(x):\n",
    "        return -1\n",
    "    if x[left] == target:\n",
    "        return left\n",
    "    else:\n",
    "        return -1\n",
    "\n",
    "search([1, 2, 3, 3, 3, 3, 4, 5], 3)"
   ]
  },
  {
   "cell_type": "code",
   "execution_count": null,
   "id": "994f89be-8961-47b2-8881-f37436c9f256",
   "metadata": {},
   "outputs": [],
   "source": []
  },
  {
   "cell_type": "code",
   "execution_count": null,
   "id": "db56a2cc-113d-4593-ac85-58e67e72eaf6",
   "metadata": {},
   "outputs": [],
   "source": []
  },
  {
   "cell_type": "code",
   "execution_count": null,
   "id": "9e0090cc-aee1-4ef4-920c-c5e579713cd5",
   "metadata": {},
   "outputs": [],
   "source": []
  },
  {
   "cell_type": "code",
   "execution_count": null,
   "id": "4bd3bc57-5fd1-4e71-ae51-d45e8da371ef",
   "metadata": {},
   "outputs": [],
   "source": []
  }
 ],
 "metadata": {
  "kernelspec": {
   "display_name": "Python 3",
   "language": "python",
   "name": "python3"
  },
  "language_info": {
   "codemirror_mode": {
    "name": "ipython",
    "version": 3
   },
   "file_extension": ".py",
   "mimetype": "text/x-python",
   "name": "python",
   "nbconvert_exporter": "python",
   "pygments_lexer": "ipython3",
   "version": "3.6.8"
  }
 },
 "nbformat": 4,
 "nbformat_minor": 5
}
